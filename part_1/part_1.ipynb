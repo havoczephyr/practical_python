{
 "cells": [
  {
   "cell_type": "markdown",
   "metadata": {},
   "source": [
    "## Tax Calculator"
   ]
  },
  {
   "cell_type": "code",
   "execution_count": 2,
   "metadata": {},
   "outputs": [
    {
     "name": "stdout",
     "output_type": "stream",
     "text": [
      "10.6\n"
     ]
    }
   ],
   "source": [
    "example_amount = 10\n",
    "def tax_calc(amount):\n",
    "    tax = .06\n",
    "    return amount + amount * tax\n",
    "print(tax_calc(example_amount))"
   ]
  },
  {
   "cell_type": "code",
   "execution_count": 3,
   "metadata": {},
   "outputs": [
    {
     "name": "stdout",
     "output_type": "stream",
     "text": [
      "106.0\n"
     ]
    }
   ],
   "source": [
    "example_amount = 100\n",
    "print(tax_calc(example_amount))\n"
   ]
  },
  {
   "cell_type": "markdown",
   "metadata": {},
   "source": [
    "## Age Calculator\n"
   ]
  },
  {
   "cell_type": "code",
   "execution_count": 9,
   "metadata": {},
   "outputs": [
    {
     "name": "stdout",
     "output_type": "stream",
     "text": [
      "You are 5 decades and 5 years old\n"
     ]
    }
   ],
   "source": [
    "age = int(input ('how old are you?\\n'))\n",
    "decades = int(age/10)\n",
    "years = age % 10\n",
    "\n",
    "print (f\"You are {decades} decades and {years} years old\")\n"
   ]
  },
  {
   "cell_type": "markdown",
   "metadata": {},
   "source": [
    "## Rock Paper Scissors version 1"
   ]
  },
  {
   "cell_type": "code",
   "execution_count": 10,
   "metadata": {},
   "outputs": [
    {
     "name": "stdout",
     "output_type": "stream",
     "text": [
      "TIE\n"
     ]
    }
   ],
   "source": [
    "def rock_paper_scissors():\n",
    "    computer_choice = 'scissors'\n",
    "    user_choice = input('do you want- rock, paper, or scissors?\\n')\n",
    "    if computer_choice == user_choice:\n",
    "        print('TIE')\n",
    "    elif user_choice == 'rock' and computer_choice == 'scissors':\n",
    "        print('WIN')\n",
    "    elif user_choice == 'paper' and computer_choice == 'rock':\n",
    "        print('WIN')\n",
    "    elif user_choice == 'scissors' and computer_choice == 'paper':\n",
    "        print('WIN')\n",
    "    else:\n",
    "        print('you lose :( computer wins :D')\n",
    "\n",
    "rock_paper_scissors()"
   ]
  },
  {
   "cell_type": "markdown",
   "metadata": {},
   "source": [
    "## Roll Dice"
   ]
  },
  {
   "cell_type": "code",
   "execution_count": 14,
   "metadata": {},
   "outputs": [
    {
     "name": "stdout",
     "output_type": "stream",
     "text": [
      "Correct! They rolled a 4.\n",
      "None\n"
     ]
    }
   ],
   "source": [
    "import random as rand\n",
    "def roll_dice():\n",
    "    roll = rand.randint(1, 6)\n",
    "    guess = int(input('Guess the dice roll:\\n'))\n",
    "    if guess == roll:\n",
    "        print(f'Correct! They rolled a {roll}.')\n",
    "    else:\n",
    "        print(f'Wrong! they rolled a {roll}.')\n",
    "\n",
    "print(roll_dice())"
   ]
  },
  {
   "cell_type": "markdown",
   "metadata": {},
   "source": [
    "## Rock Paper Scissors version 2"
   ]
  },
  {
   "cell_type": "code",
   "execution_count": 29,
   "metadata": {},
   "outputs": [
    {
     "name": "stdout",
     "output_type": "stream",
     "text": [
      "WIN - the computer had scissors\n"
     ]
    }
   ],
   "source": [
    "def rock_paper_scissors_v2():\n",
    "    computer_choice = rand.choice(['scissors', 'rock', 'paper'])\n",
    "    user_choice = input('do you want- rock, paper, or scissors?\\n')\n",
    "    if computer_choice == user_choice:\n",
    "        print('TIE')\n",
    "    elif user_choice == 'rock' and computer_choice == 'scissors':\n",
    "        print(f'WIN - the computer had {computer_choice}')\n",
    "    elif user_choice == 'paper' and computer_choice == 'rock':\n",
    "        print(f'WIN - the computer had {computer_choice}')\n",
    "    elif user_choice == 'scissors' and computer_choice == 'paper':\n",
    "        print(f'WIN - the computer had {computer_choice}')\n",
    "    else:\n",
    "        print(f'you lose :( computer wins with {computer_choice} :D')\n",
    "\n",
    "rock_paper_scissors_v2()"
   ]
  },
  {
   "cell_type": "markdown",
   "metadata": {},
   "source": [
    "## Sum Expenses"
   ]
  },
  {
   "cell_type": "code",
   "execution_count": 36,
   "metadata": {},
   "outputs": [
    {
     "data": {
      "text/plain": [
       "'you spent $66.5 on lunch this week'"
      ]
     },
     "execution_count": 36,
     "metadata": {},
     "output_type": "execute_result"
    }
   ],
   "source": [
    "expenses = [10.50, 8, 5, 15, 20, 5, 3]\n",
    "\n",
    "def sum_expenses(list):\n",
    "    # sum = 0\n",
    "    # for x in expenses:\n",
    "    #     sum = sum + x\n",
    "    total = sum(list)\n",
    "    return f\"you spent ${total} on lunch this week\"\n",
    "\n",
    "\n",
    "\n",
    "sum_expenses(expenses)\n",
    "\n",
    "\n"
   ]
  },
  {
   "cell_type": "markdown",
   "metadata": {},
   "source": [
    "## Loan Calculator"
   ]
  },
  {
   "cell_type": "code",
   "execution_count": 45,
   "metadata": {},
   "outputs": [
    {
     "name": "stdout",
     "output_type": "stream",
     "text": [
      "Paid 1000.0 of which 125.0 was interest. \n",
      " Now I owe 49125.0.\n",
      "Paid 1000.0 of which 122.8125 was interest. \n",
      " Now I owe 48247.8125.\n",
      "Paid 1000.0 of which 120.61953125000001 was interest. \n",
      " Now I owe 47368.43203125.\n",
      "Paid 1000.0 of which 118.421080078125 was interest. \n",
      " Now I owe 46486.85311132812.\n",
      "Paid 1000.0 of which 116.2171327783203 was interest. \n",
      " Now I owe 45603.07024410644.\n",
      "Paid 1000.0 of which 114.0076756102661 was interest. \n",
      " Now I owe 44717.07791971671.\n",
      "Paid 1000.0 of which 111.79269479929177 was interest. \n",
      " Now I owe 43828.870614515996.\n",
      "Paid 1000.0 of which 109.57217653628999 was interest. \n",
      " Now I owe 42938.442791052286.\n",
      "Paid 1000.0 of which 107.34610697763071 was interest. \n",
      " Now I owe 42045.78889802992.\n",
      "Paid 1000.0 of which 105.1144722450748 was interest. \n",
      " Now I owe 41150.903370274995.\n",
      "Paid 1000.0 of which 102.87725842568749 was interest. \n",
      " Now I owe 40253.78062870068.\n",
      "Paid 1000.0 of which 100.63445157175171 was interest. \n",
      " Now I owe 39354.41508027243.\n",
      "Paid 1000.0 of which 98.38603770068109 was interest. \n",
      " Now I owe 38452.80111797311.\n",
      "Paid 1000.0 of which 96.13200279493277 was interest. \n",
      " Now I owe 37548.933120768044.\n",
      "Paid 1000.0 of which 93.87233280192011 was interest. \n",
      " Now I owe 36642.80545356996.\n",
      "Paid 1000.0 of which 91.60701363392491 was interest. \n",
      " Now I owe 35734.41246720389.\n",
      "Paid 1000.0 of which 89.33603116800973 was interest. \n",
      " Now I owe 34823.7484983719.\n",
      "Paid 1000.0 of which 87.05937124592974 was interest. \n",
      " Now I owe 33910.80786961783.\n",
      "Paid 1000.0 of which 84.77701967404457 was interest. \n",
      " Now I owe 32995.58488929187.\n",
      "Paid 1000.0 of which 82.48896222322968 was interest. \n",
      " Now I owe 32078.073851515102.\n",
      "Paid 1000.0 of which 80.19518462878776 was interest. \n",
      " Now I owe 31158.26903614389.\n",
      "Paid 1000.0 of which 77.89567259035972 was interest. \n",
      " Now I owe 30236.16470873425.\n",
      "Paid 1000.0 of which 75.59041177183563 was interest. \n",
      " Now I owe 29311.755120506084.\n",
      "Paid 1000.0 of which 73.27938780126522 was interest. \n",
      " Now I owe 28385.034508307348.\n",
      "Paid 1000.0 of which 70.96258627076837 was interest. \n",
      " Now I owe 27455.997094578117.\n",
      "Paid 1000.0 of which 68.6399927364453 was interest. \n",
      " Now I owe 26524.63708731456.\n",
      "Paid 1000.0 of which 66.3115927182864 was interest. \n",
      " Now I owe 25590.94868003285.\n",
      "Paid 1000.0 of which 63.977371700082124 was interest. \n",
      " Now I owe 24654.92605173293.\n",
      "Paid 1000.0 of which 61.63731512933233 was interest. \n",
      " Now I owe 23716.563366862265.\n",
      "Paid 1000.0 of which 59.291408417155665 was interest. \n",
      " Now I owe 22775.854775279422.\n",
      "Paid 1000.0 of which 56.939636938198554 was interest. \n",
      " Now I owe 21832.79441221762.\n",
      "Paid 1000.0 of which 54.58198603054405 was interest. \n",
      " Now I owe 20887.376398248165.\n",
      "Paid 1000.0 of which 52.21844099562041 was interest. \n",
      " Now I owe 19939.594839243786.\n",
      "Paid 1000.0 of which 49.84898709810947 was interest. \n",
      " Now I owe 18989.443826341896.\n",
      "Paid 1000.0 of which 47.473609565854744 was interest. \n",
      " Now I owe 18036.91743590775.\n",
      "Paid 1000.0 of which 45.092293589769376 was interest. \n",
      " Now I owe 17082.00972949752.\n",
      "Paid 1000.0 of which 42.7050243237438 was interest. \n",
      " Now I owe 16124.714753821263.\n",
      "Paid 1000.0 of which 40.31178688455316 was interest. \n",
      " Now I owe 15165.026540705816.\n",
      "Paid 1000.0 of which 37.91256635176454 was interest. \n",
      " Now I owe 14202.93910705758.\n",
      "Paid 1000.0 of which 35.50734776764395 was interest. \n",
      " Now I owe 13238.446454825224.\n",
      "Paid 1000.0 of which 33.096116137063056 was interest. \n",
      " Now I owe 12271.542570962287.\n",
      "Paid 1000.0 of which 30.67885642740572 was interest. \n",
      " Now I owe 11302.221427389693.\n",
      "Paid 1000.0 of which 28.255553568474234 was interest. \n",
      " Now I owe 10330.476980958168.\n",
      "Paid 1000.0 of which 25.82619245239542 was interest. \n",
      " Now I owe 9356.303173410564.\n",
      "Paid 1000.0 of which 23.390757933526412 was interest. \n",
      " Now I owe 8379.69393134409.\n",
      "Paid 1000.0 of which 20.94923482836023 was interest. \n",
      " Now I owe 7400.643166172451.\n",
      "Paid 1000.0 of which 18.501607915431126 was interest. \n",
      " Now I owe 6419.144774087882.\n",
      "Paid 1000.0 of which 16.047861935219707 was interest. \n",
      " Now I owe 5435.192636023102.\n",
      "Paid 1000.0 of which 13.587981590057755 was interest. \n",
      " Now I owe 4448.78061761316.\n",
      "Paid 1000.0 of which 11.1219515440329 was interest. \n",
      " Now I owe 3459.9025691571924.\n",
      "Paid 1000.0 of which 8.649756422892981 was interest. \n",
      " Now I owe 2468.5523255800854.\n",
      "Paid 1000.0 of which 6.171380813950214 was interest. \n",
      " Now I owe 1474.7237063940356.\n",
      "Paid 1000.0 of which 3.6868092659850893 was interest. \n",
      " Now I owe 478.4105156600208.\n",
      "the last payment is 479.60654194917083\n",
      " You paid off the loan in 54 months!\n"
     ]
    }
   ],
   "source": [
    "\n",
    "def loan_calculator():\n",
    "    # Get the loan details\n",
    "    money_owed = float(input('how much money do you owe, in dollars?\\n')) # $50,000\n",
    "    apr = float(input('What is the annual percentage rate?\\n')) # 3%\n",
    "    payment = float(input('What will your monthly payment be, in dollars?\\n')) # $1,000\n",
    "    months = int(input('How many months do you want to see results for?\\n')) # 24, 54\n",
    "\n",
    "    #Divide apr by 100 to make it a percent, then divide by 12 to make monthly.\n",
    "    monthly_rate = apr/100/12\n",
    "\n",
    "    for i in range(months):\n",
    "        #Add in Interest\n",
    "        interest_paid = money_owed * monthly_rate\n",
    "        money_owed = money_owed + interest_paid\n",
    "        if (money_owed - payment < 0):\n",
    "            print(f'the last payment is {money_owed}\\n You paid off the loan in {i + 1} months!')\n",
    "            break\n",
    "\n",
    "        #Make Payment\n",
    "        money_owed = money_owed - payment\n",
    "\n",
    "        print (f\"Paid {payment} of which {interest_paid} was interest. \\n Now I owe {money_owed}.\")\n",
    "\n",
    "loan_calculator()\n"
   ]
  },
  {
   "cell_type": "markdown",
   "metadata": {},
   "source": [
    "## Create a Movie Schedule Dictionary"
   ]
  },
  {
   "cell_type": "code",
   "execution_count": 46,
   "metadata": {},
   "outputs": [
    {
     "name": "stdout",
     "output_type": "stream",
     "text": [
      "we are currently showing the following movies:\n",
      "The Grinch\n",
      "Rudolph\n",
      "Frosty the Snowman\n",
      "Christmas Vacation\n",
      "The Grinch is playing at 11:00am\n"
     ]
    }
   ],
   "source": [
    "movies = {'The Grinch' : '11:00am',\n",
    "          'Rudolph' : '1:00pm',\n",
    "          'Frosty the Snowman': '3:00pm',\n",
    "          'Christmas Vacation': '5:00pm'\n",
    "          }\n",
    "\n",
    "def movie_schedule(current_movies):\n",
    "    print('we are currently showing the following movies:')\n",
    "    for key in current_movies:\n",
    "        print(key)\n",
    "    movie = input('what movie would you like the showtime for?\\n')\n",
    "\n",
    "    showtime = current_movies.get(movie)\n",
    "\n",
    "    if showtime == None:\n",
    "        print(\"requested movie isn't playing\")\n",
    "    else:\n",
    "        print(f\"{movie} is playing at {showtime}\")\n",
    "\n",
    "movie_schedule(movies)"
   ]
  },
  {
   "cell_type": "markdown",
   "metadata": {},
   "source": [
    "## Parse a Nested Contacts Dictionary"
   ]
  },
  {
   "cell_type": "code",
   "execution_count": 47,
   "metadata": {},
   "outputs": [
    {
     "name": "stdout",
     "output_type": "stream",
     "text": [
      "sarah@example.com\n",
      "harry@example.com\n",
      "hermione@example.com\n",
      "ron@example.com\n"
     ]
    }
   ],
   "source": [
    "contacts = {\n",
    "    'number': 4,\n",
    "    'students': [\n",
    "        {'name': 'Sarah Holderness', 'email':'sarah@example.com'},\n",
    "        {'name': 'Harry Potter', 'email': 'harry@example.com'},\n",
    "        {'name': 'Hermione Granger', 'email' : 'hermione@example.com'},\n",
    "        {'name': 'Ron Weasley', 'email': 'ron@example.com'}\n",
    "    ]\n",
    "}\n",
    "\n",
    "for student in contacts['students']:\n",
    "    print(student['email'])\n"
   ]
  },
  {
   "cell_type": "markdown",
   "metadata": {},
   "source": [
    "## Using Requests to find people in space"
   ]
  },
  {
   "cell_type": "code",
   "execution_count": 5,
   "metadata": {},
   "outputs": [
    {
     "name": "stdout",
     "output_type": "stream",
     "text": [
      "the people currently in space are:\n",
      "Mark Vande Hei\n",
      "Pyotr Dubrov\n",
      "Anton Shkaplerov\n",
      "Zhai Zhigang\n",
      "Wang Yaping\n",
      "Ye Guangfu\n",
      "Raja Chari\n",
      "Tom Marshburn\n",
      "Kayla Barron\n",
      "Matthias Maurer\n"
     ]
    }
   ],
   "source": [
    "import requests as req\n",
    "def get_space_people():\n",
    "    response = req.get('http://api.open-notify.org/astros.json')\n",
    "    json = response.json()\n",
    "    print('the people currently in space are:')\n",
    "    for person in json['people']:\n",
    "        print(person['name'])\n",
    "get_space_people()"
   ]
  },
  {
   "cell_type": "markdown",
   "metadata": {},
   "source": [
    "## Weather API reader"
   ]
  },
  {
   "cell_type": "code",
   "execution_count": 13,
   "metadata": {},
   "outputs": [
    {
     "name": "stdout",
     "output_type": "stream",
     "text": [
      "today's weather is overcast clouds.\n",
      " the minimum temperature is 59.99.\n",
      " the maximum temperature is 67.96. \n"
     ]
    }
   ],
   "source": [
    "city = 'Orlando'\n",
    "\n",
    "def get_weather(city_str):\n",
    "    API_KEY= 0\n",
    "    \n",
    "    url = f\"http://api.openweathermap.org/data/2.5/weather?q={city_str}&appid={API_KEY}&units=imperial\"\n",
    "    weather_req = req.get(url)\n",
    "    json = weather_req.json()\n",
    "    description = json.get('weather')[0].get('description')\n",
    "    temp_min = json.get('main').get('temp_min')\n",
    "    temp_max= json.get('main').get('temp_max')\n",
    "    return f\"today's weather is {description}.\\n the minimum temperature is {temp_min}.\\n the maximum temperature is {temp_max}. \"\n",
    "print(get_weather(city))"
   ]
  },
  {
   "cell_type": "markdown",
   "metadata": {},
   "source": [
    "## Creating a Dice Rolling Game"
   ]
  },
  {
   "cell_type": "code",
   "execution_count": 16,
   "metadata": {},
   "outputs": [
    {
     "name": "stdout",
     "output_type": "stream",
     "text": [
      "cat rolled 7.\n",
      " dog rolled 8.\n",
      "dog wins!\n"
     ]
    }
   ],
   "source": [
    "player1 = input(\"enter player 1's name:\")\n",
    "player2 = input(\"enter player 2's name:\")\n",
    "\n",
    "def dice_roller():\n",
    "    return rand.randint(1,6) + rand.randint(1,6)\n",
    "\n",
    "roll1= dice_roller()\n",
    "roll2= dice_roller()\n",
    "\n",
    "print(f\"{player1} rolled {roll1}.\\n {player2} rolled {roll2}.\")\n",
    "\n",
    "if(roll1 > roll2):\n",
    "    print(f\"{player1} wins!\")\n",
    "elif(roll1 < roll2):\n",
    "    print(f\"{player2} wins!\")\n",
    "else:\n",
    "    print('you tied!')"
   ]
  },
  {
   "cell_type": "markdown",
   "metadata": {},
   "source": [
    "## Weather API reader 2: electric boogaloo"
   ]
  },
  {
   "cell_type": "code",
   "execution_count": 19,
   "metadata": {},
   "outputs": [
    {
     "name": "stdout",
     "output_type": "stream",
     "text": [
      "today's weather is overcast clouds.\n",
      " the minimum temperature is 59.99.\n",
      " the maximum temperature is 67.96. \n"
     ]
    }
   ],
   "source": [
    "city = 'Orlando'\n",
    "\n",
    "def get_weather(city_str):\n",
    "    API_KEY= 'a09f74a0666c52fa1b8f713dbc9eaefe'\n",
    "    \n",
    "    url = f\"http://api.openweathermap.org/data/2.5/weather?q={city_str}&appid={API_KEY}&units=imperial\"\n",
    "    \n",
    "    weather_req = req.get(url)\n",
    "    json = weather_req.json()\n",
    "\n",
    "    description = json.get('weather')[0].get('description')\n",
    "    temp_min = json.get('main').get('temp_min')\n",
    "    temp_max= json.get('main').get('temp_max')\n",
    "    return {'description': description,\n",
    "            'temp_min': temp_min,\n",
    "            'temp_max': temp_max}\n",
    "def main():\n",
    "    weather_dict = get_weather(city)\n",
    "    print(f\"today's weather is {weather_dict.get('description')}.\\n the minimum temperature is {weather_dict.get('temp_min')}.\\n the maximum temperature is {weather_dict.get('temp_max')}. \")\n",
    "\n",
    "main()"
   ]
  }
 ],
 "metadata": {
  "interpreter": {
   "hash": "213bdab8361921d46ba3554a48a5c81d8164a3e83ec7f2713aa29fd22b535208"
  },
  "kernelspec": {
   "display_name": "Python 3.10.0 64-bit",
   "language": "python",
   "name": "python3"
  },
  "language_info": {
   "codemirror_mode": {
    "name": "ipython",
    "version": 3
   },
   "file_extension": ".py",
   "mimetype": "text/x-python",
   "name": "python",
   "nbconvert_exporter": "python",
   "pygments_lexer": "ipython3",
   "version": "3.10.0"
  },
  "orig_nbformat": 4
 },
 "nbformat": 4,
 "nbformat_minor": 2
}
